{
  "nbformat": 4,
  "nbformat_minor": 0,
  "metadata": {
    "colab": {
      "provenance": [],
      "authorship_tag": "ABX9TyOAeC2DtYSkzwsMrlt7UC9j",
      "include_colab_link": true
    },
    "kernelspec": {
      "name": "python3",
      "display_name": "Python 3"
    },
    "language_info": {
      "name": "python"
    }
  },
  "cells": [
    {
      "cell_type": "markdown",
      "metadata": {
        "id": "view-in-github",
        "colab_type": "text"
      },
      "source": [
        "<a href=\"https://colab.research.google.com/github/smallmin82465/YahooFinanceAutoGetOptions/blob/main/Colab/optionget_min.ipynb\" target=\"_parent\"><img src=\"https://colab.research.google.com/assets/colab-badge.svg\" alt=\"Open In Colab\"/></a>"
      ]
    },
    {
      "cell_type": "code",
      "execution_count": 6,
      "metadata": {
        "colab": {
          "base_uri": "https://localhost:8080/"
        },
        "id": "obIa_QZHZtOD",
        "outputId": "67a1be02-7f3d-4320-e095-bf93bfb7610c"
      },
      "outputs": [
        {
          "output_type": "stream",
          "name": "stdout",
          "text": [
            "Drive already mounted at /content/drive; to attempt to forcibly remount, call drive.mount(\"/content/drive\", force_remount=True).\n"
          ]
        }
      ],
      "source": [
        "\n",
        "import pandas as pd\n",
        "import yfinance as yf\n",
        "from datetime import date,timedelta\n",
        "import warnings\n",
        "import os\n",
        "warnings.simplefilter(action='ignore', category=FutureWarning)\n",
        "from google.colab import drive\n",
        "drive.mount('/content/drive')"
      ]
    },
    {
      "cell_type": "markdown",
      "source": [
        "optionget_min(symbols)\n",
        "\n",
        "\n",
        "symbols:股票代號,可以是list()\n",
        "\n",
        "將symbols的股票代號的選擇權資料抓下來\n",
        "\n",
        "每一筆contractSymbol可以抓取至7天前 時間間隔為一分鐘的資料\n",
        "\n",
        "儲存成csv檔 Today_Symbols.csv"
      ],
      "metadata": {
        "id": "VnZ6qTWDZ53b"
      }
    },
    {
      "cell_type": "code",
      "source": [
        "def optionget_min(symbols):\n",
        "    for sym in symbols:\n",
        "        tk = yf.Ticker(sym)\n",
        "        exp = tk.options\n",
        "        options = pd.DataFrame()  # 空的dataframe保存結果\n",
        "        opt = tk.option_chain(exp[0])  # 取得第一個到期日的call和put\n",
        "        opt = pd.DataFrame().append(opt.calls).append(opt.puts)  # 將call和put合併\n",
        "        options = options.append(opt, ignore_index=True)  # 將每個到期日的call和put合併\n",
        "        contract = opt[opt['volume'] >= 10]['contractSymbol']  # 篩選數量>=10的選擇權\n",
        "        seven_days_ago = date.today() - timedelta(days=7)\n",
        "        result = pd.DataFrame()  # 空的dataframe保存結果\n",
        "        for e in contract:\n",
        "            ticker = yf.Ticker(e)\n",
        "            option_data = ticker.history(start=seven_days_ago, end=date.today(), interval=\"1m\")  # 資料只記載到7天前 也只能query7天前的資料 且今天的資料要到隔天才會有\n",
        "            option_data['contractSymbol'] = e  # 添加contractSymbol列\n",
        "            option_data.insert(0, 'Datetime', option_data.index)  # 將Datetime列插入到第一列位置\n",
        "            option_data[['Open', 'High', 'Low', 'Close']] = option_data[['Open', 'High', 'Low', 'Close']].round(2)  # 將Open, High, Low, Close列保留到小數後兩位四捨五入\n",
        "            option_data = option_data[['Datetime', 'Open', 'High', 'Low', 'Close', 'Volume', 'contractSymbol']]  # 選擇需要的欄位\n",
        "            result = result.append(option_data, ignore_index=True)  # 將結果保存到result\n",
        "        result['Ticker'] = result['contractSymbol'].str.extract('([A-Za-z]{2,4})')  # 切割出股票代號\n",
        "        result['Expiration_Date'] = pd.to_datetime(result['contractSymbol'].str.extract('([A-Za-z]+(\\d+))')[1], format='%y%m%d')  # 切割出到期日\n",
        "        result['CALL_PUT'] = result['contractSymbol'].str.extract('([A-Za-z]{2,4})(\\d+)([CP])')[2].map({'C': 'CALL', 'P': 'PUT'})  # 切割出CALL_PUT\n",
        "        result['Strike'] = result['contractSymbol'].str.extract('(\\d+)$').astype(float) / 1000  # 切割出履約價\n",
        "        today = date.today().strftime(\"%Y-%m-%d\")\n",
        "        save_dir = '/content/drive/MyDrive/Options'\n",
        "        if not os.path.exists(save_dir):\n",
        "            os.makedirs(save_dir)\n",
        "        csv_filename = os.path.join(save_dir, today + \"_\" + sym + \".csv\")  # 命名格式 Date_Ticker.csv\n",
        "        result.to_csv(csv_filename, index=False)  # 將結果保存到csv檔"
      ],
      "metadata": {
        "id": "7LycvZ5yZ6kD"
      },
      "execution_count": 7,
      "outputs": []
    },
    {
      "cell_type": "code",
      "source": [
        "ticker_list = [\"SPY\",\"QQQ\",\"VT\",\"DIA\",\"BND\",\"IWN\",\"XLF\",\"SOXX\",\"AAPL\",\"NVDA\",\"MSFT\",\"GOOG\"]\n",
        "ticker_list1 = ['XLE', 'XLU', 'XLK', 'XLB', 'XLP', 'XLY', 'XLI', 'XLV', 'XLF', 'XLRE', 'XLC']\n",
        "optionget_min(ticker_list)\n",
        "optionget_min(ticker_list1)"
      ],
      "metadata": {
        "colab": {
          "base_uri": "https://localhost:8080/"
        },
        "id": "renwuU56aDxn",
        "outputId": "3daaeb09-437b-4df9-f0ab-a5f90629f012"
      },
      "execution_count": 8,
      "outputs": [
        {
          "output_type": "stream",
          "name": "stdout",
          "text": [
            "QQQ230522C00339000: Period '1mo' is invalid, must be one of ['1d', '5d']\n",
            "QQQ230522C00341000: Period '1mo' is invalid, must be one of ['1d', '5d']\n",
            "QQQ230522C00349000: Period '1mo' is invalid, must be one of ['1d', '5d']\n",
            "QQQ230522P00288000: Period '1mo' is invalid, must be one of ['1d', '5d']\n",
            "QQQ230522P00297000: Period '1mo' is invalid, must be one of ['1d', '5d']\n",
            "QQQ230522P00303000: Period '1mo' is invalid, must be one of ['1d', '5d']\n",
            "QQQ230522P00335000: Period '1mo' is invalid, must be one of ['1d', '5d']\n",
            "QQQ230522P00339000: Period '1mo' is invalid, must be one of ['1d', '5d']\n",
            "VT230616C00100000: No data found for this date range, symbol may be delisted\n",
            "VT230616P00086000: No data found for this date range, symbol may be delisted\n",
            "BND230616C00072000: No data found for this date range, symbol may be delisted\n",
            "BND230616C00081000: No data found for this date range, symbol may be delisted\n",
            "BND230616P00080000: No data found for this date range, symbol may be delisted\n",
            "BND230616P00090000: No data found for this date range, symbol may be delisted\n",
            "IWN230616P00121000: No data found for this date range, symbol may be delisted\n",
            "XLF230526P00027500: No data found for this date range, symbol may be delisted\n",
            "SOXX230616P00150000: No data found for this date range, symbol may be delisted\n",
            "SOXX230616P00170000: No data found for this date range, symbol may be delisted\n",
            "SOXX230616P00200000: No data found for this date range, symbol may be delisted\n",
            "SOXX230616P00505000: No data found for this date range, symbol may be delisted\n",
            "AAPL230526C00230000: No data found for this date range, symbol may be delisted\n",
            "AAPL230526P00115000: No data found for this date range, symbol may be delisted\n",
            "MSFT230526C00347500: Period '1mo' is invalid, must be one of ['1d', '5d']\n",
            "MSFT230526C00352500: Period '1mo' is invalid, must be one of ['1d', '5d']\n",
            "MSFT230526P00195000: No data found for this date range, symbol may be delisted\n",
            "MSFT230526P00205000: No data found for this date range, symbol may be delisted\n",
            "MSFT230526P00220000: No data found for this date range, symbol may be delisted\n",
            "MSFT230526P00277500: Period '1mo' is invalid, must be one of ['1d', '5d']\n",
            "GOOG230526C00075000: Period '1mo' is invalid, must be one of ['1d', '5d']\n",
            "GOOG230526C00134000: Period '1mo' is invalid, must be one of ['1d', '5d']\n",
            "GOOG230526C00139000: Period '1mo' is invalid, must be one of ['1d', '5d']\n",
            "XLE230526C00089500: No data found for this date range, symbol may be delisted\n",
            "XLU230526C00065500: Period '1mo' is invalid, must be one of ['1d', '5d']\n",
            "XLU230526C00072000: No data found for this date range, symbol may be delisted\n",
            "XLU230526C00072500: No data found for this date range, symbol may be delisted\n",
            "XLU230526C00074500: No data found for this date range, symbol may be delisted\n",
            "XLK230526P00134000: No data found for this date range, symbol may be delisted\n",
            "XLB230526P00075500: No data found for this date range, symbol may be delisted\n",
            "XLB230526P00079500: No data found for this date range, symbol may be delisted\n",
            "XLB230526P00082500: No data found for this date range, symbol may be delisted\n",
            "XLP230526P00062000: No data found for this date range, symbol may be delisted\n",
            "XLP230526P00063000: No data found for this date range, symbol may be delisted\n",
            "XLP230526P00064000: No data found for this date range, symbol may be delisted\n",
            "XLY230526P00131000: No data found for this date range, symbol may be delisted\n",
            "XLI230526P00088000: No data found for this date range, symbol may be delisted\n",
            "XLI230526P00089000: No data found for this date range, symbol may be delisted\n",
            "XLV230526C00138500: No data found for this date range, symbol may be delisted\n",
            "XLV230526C00143000: No data found for this date range, symbol may be delisted\n",
            "XLV230526C00144000: Period '1mo' is invalid, must be one of ['1d', '5d']\n",
            "XLV230526P00115000: No data found for this date range, symbol may be delisted\n",
            "XLV230526P00118000: No data found for this date range, symbol may be delisted\n",
            "XLF230526P00027500: No data found for this date range, symbol may be delisted\n",
            "XLRE230616C00043000: No data found for this date range, symbol may be delisted\n",
            "XLRE230616P00031000: No data found for this date range, symbol may be delisted\n",
            "XLC230526C00053000: No data found for this date range, symbol may be delisted\n",
            "XLC230526C00063000: No data found for this date range, symbol may be delisted\n",
            "XLC230526P00054000: No data found for this date range, symbol may be delisted\n"
          ]
        }
      ]
    },
    {
      "cell_type": "code",
      "source": [],
      "metadata": {
        "id": "XGRAaO4Gba0E"
      },
      "execution_count": null,
      "outputs": []
    }
  ]
}