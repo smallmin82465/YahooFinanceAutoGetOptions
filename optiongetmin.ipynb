{
  "nbformat": 4,
  "nbformat_minor": 0,
  "metadata": {
    "colab": {
      "provenance": [],
      "authorship_tag": "ABX9TyPuXT/8uFD7xXoQSfnhtSTX",
      "include_colab_link": true
    },
    "kernelspec": {
      "name": "python3",
      "display_name": "Python 3"
    },
    "language_info": {
      "name": "python"
    }
  },
  "cells": [
    {
      "cell_type": "markdown",
      "metadata": {
        "id": "view-in-github",
        "colab_type": "text"
      },
      "source": [
        "<a href=\"https://colab.research.google.com/github/smallmin82465/YahooFinanceAutoGetOptions/blob/main/optiongetmin.ipynb\" target=\"_parent\"><img src=\"https://colab.research.google.com/assets/colab-badge.svg\" alt=\"Open In Colab\"/></a>"
      ]
    },
    {
      "cell_type": "code",
      "execution_count": 1,
      "metadata": {
        "colab": {
          "base_uri": "https://localhost:8080/"
        },
        "id": "W036nne_8cKS",
        "outputId": "df74c1c1-2c1c-4d00-c79e-af938d42d201"
      },
      "outputs": [
        {
          "output_type": "stream",
          "name": "stdout",
          "text": [
            "Mounted at /content/drive\n"
          ]
        }
      ],
      "source": [
        "import pandas as pd\n",
        "import yfinance as yf\n",
        "from datetime import date,timedelta\n",
        "import warnings\n",
        "import os\n",
        "warnings.simplefilter(action='ignore', category=FutureWarning)\n",
        "from google.colab import drive\n",
        "drive.mount('/content/drive')"
      ]
    },
    {
      "cell_type": "code",
      "source": [
        "def optionget_min(symbols):\n",
        "    for sym in symbols:\n",
        "        tk = yf.Ticker(sym)\n",
        "        exp=tk.options\n",
        "        options = pd.DataFrame() # 空的dataframe保存結果\n",
        "        result = pd.DataFrame()  # 空的dataframe保存結果\n",
        "        for i in exp:\n",
        "            opt = tk.option_chain(i)\n",
        "            opt = pd.DataFrame().append(opt.calls).append(opt.puts) # 將call和put合併\n",
        "            options = options.append(opt, ignore_index=True) # 將每個到期日的call和put合併\n",
        "            contract = opt[opt['volume'] >= 10]['contractSymbol'] #篩選數量>=10的選擇權\n",
        "            yesterday = date.today() - timedelta(days=1)\n",
        "            for e in contract:\n",
        "                ticker = yf.Ticker(e)\n",
        "                option_data = ticker.history(start=yesterday, end=date.today(),interval=\"1m\")\n",
        "                option_data['contractSymbol'] = e  # 添加contractSymbol列\n",
        "                option_data.insert(0, 'Datetime', option_data.index)  # 將Datetime列插入到第一列位置\n",
        "                option_data[['Open', 'High', 'Low', 'Close']] = option_data[['Open', 'High', 'Low', 'Close']].round(2)# 將Open, High, Low, Close列保留到小數後兩位四捨五入\n",
        "                option_data = option_data[['Datetime','Open', 'High', 'Low', 'Close', 'Volume', 'contractSymbol']]  # 選擇需要的欄位\n",
        "                result = result.append(option_data, ignore_index=True)  # 將結果保存到result\n",
        "        result['Ticker'] = result['contractSymbol'].str.extract('([A-Za-z]{2,4})') #切割出股票代號\n",
        "        result['Expiration_Date'] = pd.to_datetime(result['contractSymbol'].str.extract('([A-Za-z]+(\\d+))')[1], format='%y%m%d') #切割出到期日\n",
        "        result['CALL_PUT'] = result['contractSymbol'].str.extract('([A-Za-z]{2,4})(\\d+)([CP])')[2].map({'C': 'CALL', 'P': 'PUT'}) #切割出CALL_PUT\n",
        "        result['Strike'] = result['contractSymbol'].str.extract('(\\d+)$').astype(float) / 1000 #切割出履約價\n",
        "        today = date.today().strftime(\"%Y-%m-%d\") \n",
        "        save_dir = '/content/drive/MyDrive/Options'\n",
        "        if not os.path.exists(save_dir):\n",
        "            os.makedirs(save_dir)\n",
        "        csv_filename = os.path.join(save_dir, today + \"_\" + sym + \".csv\")  # 命名格式 Date_Ticker.csv\n",
        "        result.to_csv(csv_filename, index=False)  # 將結果保存到csv檔"
      ],
      "metadata": {
        "id": "OOhVdG-y8gSN"
      },
      "execution_count": 2,
      "outputs": []
    },
    {
      "cell_type": "code",
      "source": [
        "ticker_list = [\"SPY\",\"QQQ\",\"VT\",\"DIA\",\"BND\",\"IWN\",\"XLF\",\"SOXX\",\"AAPL\",\"NVDA\",\"MSFT\",\"GOOG\"]\n",
        "ticker_list1 = ['XLE', 'XLU', 'XLK', 'XLB', 'XLP', 'XLY', 'XLI', 'XLV', 'XLF', 'XLRE', 'XLC']\n",
        "optionget_min(ticker_list)\n",
        "optionget_min(ticker_list1)"
      ],
      "metadata": {
        "id": "GRqrgHdC8v4a"
      },
      "execution_count": null,
      "outputs": []
    }
  ]
}