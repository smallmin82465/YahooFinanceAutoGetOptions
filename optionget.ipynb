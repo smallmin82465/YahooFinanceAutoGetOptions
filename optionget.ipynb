{
 "cells": [
  {
   "cell_type": "code",
   "execution_count": null,
   "id": "b9612eb7-1fe7-430a-83e8-d79ae183e2b8",
   "metadata": {},
   "outputs": [],
   "source": [
    "import pandas as pd\n",
    "import numpy as np\n",
    "import yfinance as yf\n",
    "import datetime , time\n",
    "import csv\n",
    "import os\n",
    "import pandas_datareader as web\n",
    "from datetime import date"
   ]
  },
  {
   "cell_type": "code",
   "execution_count": null,
   "id": "63d19b31-1df6-4fef-a6e9-acd158024228",
   "metadata": {},
   "outputs": [],
   "source": [
    "def stockinfo_get(symbol): \n",
    "    '''\n",
    "    funtion內(symbol)輸入股票代號可獲取該股票從創立以來歷史資訊即選擇權資訊\n",
    "    股票資訊包含:Date, Open, High, Low, Close, Adj Close, Volume\n",
    "    選擇權資訊包含:Contract name, Date, Open, High, Low, Close, Volume, Dividends, Stock Splits\n",
    "    '''\n",
    "    today = date.today()\n",
    "    day = today.strftime(\"%m-%d-%Y\")\n",
    "    df = yf.download(symbol, \"1980-01-01\" )\n",
    "    path = os.path.join(os.getcwd(), 'StockPrice'+symbol+day+'.xlsx') # 設定路徑及檔名\n",
    "    writer = pd.ExcelWriter(path, engine='openpyxl') # 指定引擎openpyxl\n",
    "    df.to_excel(writer, sheet_name=symbol)\n",
    "    writer.save() # 存檔生成excel檔案\n",
    "\n",
    "    tk = yf.Ticker(symbol)\n",
    "    # exps=到期日\n",
    "    exps = tk.options\n",
    "\n",
    "    # 獲得各選擇權到期日\n",
    "    options = pd.DataFrame()\n",
    "    for e in exps:\n",
    "        opt = tk.option_chain(e)\n",
    "        opt = pd.DataFrame().append(opt.calls).append(opt.puts)\n",
    "        opt['expirationDate'] = e\n",
    "        options = options.append(opt, ignore_index=True)\n",
    "    contract = options['contractSymbol']\n",
    "    \n",
    "    path = os.path.join(os.getcwd(), 'StockOption'+symbol+day+'.xlsx') # 設定路徑及檔名\n",
    "    writer = pd.ExcelWriter(path, engine='openpyxl') # 指定引擎openpyxl\n",
    "    \n",
    "    for a in contract:\n",
    "        x=yf.Ticker(a)\n",
    "        time.sleep(0.1)\n",
    "        x1=x.history()\n",
    "        time.sleep(0.1)\n",
    "        x1.to_excel(writer, sheet_name=a)\n",
    "        \n",
    "    writer.save() # 存檔生成excel"
   ]
  },
  {
   "cell_type": "code",
   "execution_count": null,
   "id": "2de791a5-9086-4dc6-8ea5-79f1c7c597f6",
   "metadata": {},
   "outputs": [],
   "source": [
    "def options_get(symbol): \n",
    "    today = date.today()\n",
    "    day = today.strftime(\"%m-%d-%Y\")\n",
    "    tk = yf.Ticker(symbol)\n",
    "    # exps=到期日\n",
    "    exps = tk.options\n",
    "\n",
    "    # 獲得各選擇權到期日\n",
    "    options = pd.DataFrame()\n",
    "    for e in exps:\n",
    "        opt = tk.option_chain(e)\n",
    "        opt = pd.DataFrame().append(opt.calls).append(opt.puts)\n",
    "        opt['expirationDate'] = e\n",
    "        options = options.append(opt, ignore_index=True)\n",
    "    contract = options['contractSymbol']\n",
    "    \n",
    "    path = os.path.join(os.getcwd(), 'StockOption'+symbol+day+'.xlsx') # 設定路徑及檔名\n",
    "    writer = pd.ExcelWriter(path, engine='openpyxl') # 指定引擎openpyxl\n",
    "    \n",
    "    for a in contract:\n",
    "        x=yf.Ticker(a)\n",
    "        time.sleep(0.1)\n",
    "        x1=x.history()\n",
    "        time.sleep(0.1)\n",
    "        x1.to_excel(writer, sheet_name=a)\n",
    "        \n",
    "    writer.save() # 存檔生成excel"
   ]
  },
  {
   "cell_type": "code",
   "execution_count": null,
   "id": "027ac40d-9daa-44fb-81ac-dd4cf5fd3c6c",
   "metadata": {},
   "outputs": [],
   "source": [
    "options_get(\"SPY\")\n",
    "options_get(\"QQQ\")\n",
    "options_get(\"VT\")\n",
    "options_get(\"DIA\")\n",
    "options_get(\"BND\")\n",
    "options_get(\"IWN\")\n",
    "options_get(\"XLF\")\n",
    "options_get(\"SOXX\")\n",
    "options_get(\"AAPL\")\n",
    "options_get(\"NVDA\")\n",
    "options_get(\"MSFT\")\n",
    "options_get(\"GOOG\")"
   ]
  }
 ],
 "metadata": {
  "kernelspec": {
   "display_name": "Python 3",
   "language": "python",
   "name": "python3"
  },
  "language_info": {
   "codemirror_mode": {
    "name": "ipython",
    "version": 3
   },
   "file_extension": ".py",
   "mimetype": "text/x-python",
   "name": "python",
   "nbconvert_exporter": "python",
   "pygments_lexer": "ipython3",
   "version": "3.8.8"
  }
 },
 "nbformat": 4,
 "nbformat_minor": 5
}
